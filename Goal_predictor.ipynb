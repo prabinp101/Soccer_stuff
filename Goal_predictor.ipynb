{
 "cells": [
  {
   "cell_type": "code",
   "execution_count": 254,
   "id": "e62918d4",
   "metadata": {},
   "outputs": [],
   "source": [
    "import pandas as pd\n",
    "import numpy as np\n",
    "from sklearn.model_selection import train_test_split\n",
    "from sklearn.linear_model import LinearRegression\n",
    "from sklearn.metrics import mean_squared_error, r2_score, make_scorer, accuracy_score\n",
    "from sklearn.model_selection import KFold, cross_val_score\n",
    "from sklearn.ensemble import RandomForestRegressor\n",
    "import matplotlib.pyplot as plt\n",
    "import seaborn as sns\n",
    "import random"
   ]
  },
  {
   "cell_type": "code",
   "execution_count": 187,
   "id": "6808eeb9",
   "metadata": {},
   "outputs": [
    {
     "name": "stderr",
     "output_type": "stream",
     "text": [
      "/var/folders/mx/4qcb2ycx00b56p885wrfvpk40000gn/T/ipykernel_9393/299103339.py:9: SettingWithCopyWarning: \n",
      "A value is trying to be set on a copy of a slice from a DataFrame.\n",
      "Try using .loc[row_indexer,col_indexer] = value instead\n",
      "\n",
      "See the caveats in the documentation: https://pandas.pydata.org/pandas-docs/stable/user_guide/indexing.html#returning-a-view-versus-a-copy\n",
      "  df[col] = pd.to_numeric(df[col], errors='coerce')\n"
     ]
    },
    {
     "data": {
      "text/html": [
       "<div>\n",
       "<style scoped>\n",
       "    .dataframe tbody tr th:only-of-type {\n",
       "        vertical-align: middle;\n",
       "    }\n",
       "\n",
       "    .dataframe tbody tr th {\n",
       "        vertical-align: top;\n",
       "    }\n",
       "\n",
       "    .dataframe thead th {\n",
       "        text-align: right;\n",
       "    }\n",
       "</style>\n",
       "<table border=\"1\" class=\"dataframe\">\n",
       "  <thead>\n",
       "    <tr style=\"text-align: right;\">\n",
       "      <th></th>\n",
       "      <th>Player</th>\n",
       "      <th>Pos</th>\n",
       "      <th>Squad</th>\n",
       "      <th>Age</th>\n",
       "      <th>MP</th>\n",
       "      <th>Starts</th>\n",
       "      <th>Min</th>\n",
       "      <th>Gls</th>\n",
       "      <th>Ast</th>\n",
       "      <th>PK</th>\n",
       "      <th>PKatt</th>\n",
       "      <th>xAG</th>\n",
       "    </tr>\n",
       "  </thead>\n",
       "  <tbody>\n",
       "    <tr>\n",
       "      <th>0</th>\n",
       "      <td>Max Aarons</td>\n",
       "      <td>DF</td>\n",
       "      <td>Bournemouth</td>\n",
       "      <td>24.0</td>\n",
       "      <td>3</td>\n",
       "      <td>1</td>\n",
       "      <td>86</td>\n",
       "      <td>0</td>\n",
       "      <td>0</td>\n",
       "      <td>0</td>\n",
       "      <td>0</td>\n",
       "      <td>0.0</td>\n",
       "    </tr>\n",
       "    <tr>\n",
       "      <th>1</th>\n",
       "      <td>Max Aarons</td>\n",
       "      <td>DF,MF</td>\n",
       "      <td>Valencia</td>\n",
       "      <td>24.0</td>\n",
       "      <td>4</td>\n",
       "      <td>1</td>\n",
       "      <td>120</td>\n",
       "      <td>0</td>\n",
       "      <td>0</td>\n",
       "      <td>0</td>\n",
       "      <td>0</td>\n",
       "      <td>0.0</td>\n",
       "    </tr>\n",
       "    <tr>\n",
       "      <th>2</th>\n",
       "      <td>Rodrigo Abajas</td>\n",
       "      <td>DF</td>\n",
       "      <td>Valencia</td>\n",
       "      <td>21.0</td>\n",
       "      <td>1</td>\n",
       "      <td>1</td>\n",
       "      <td>65</td>\n",
       "      <td>0</td>\n",
       "      <td>0</td>\n",
       "      <td>0</td>\n",
       "      <td>0</td>\n",
       "      <td>0.0</td>\n",
       "    </tr>\n",
       "    <tr>\n",
       "      <th>3</th>\n",
       "      <td>James Abankwah</td>\n",
       "      <td>DF,MF</td>\n",
       "      <td>Udinese</td>\n",
       "      <td>20.0</td>\n",
       "      <td>6</td>\n",
       "      <td>0</td>\n",
       "      <td>88</td>\n",
       "      <td>0</td>\n",
       "      <td>0</td>\n",
       "      <td>0</td>\n",
       "      <td>0</td>\n",
       "      <td>0.0</td>\n",
       "    </tr>\n",
       "    <tr>\n",
       "      <th>4</th>\n",
       "      <td>Keyliane Abdallah</td>\n",
       "      <td>FW</td>\n",
       "      <td>Marseille</td>\n",
       "      <td>18.0</td>\n",
       "      <td>1</td>\n",
       "      <td>0</td>\n",
       "      <td>3</td>\n",
       "      <td>0</td>\n",
       "      <td>0</td>\n",
       "      <td>0</td>\n",
       "      <td>0</td>\n",
       "      <td>0.0</td>\n",
       "    </tr>\n",
       "    <tr>\n",
       "      <th>...</th>\n",
       "      <td>...</td>\n",
       "      <td>...</td>\n",
       "      <td>...</td>\n",
       "      <td>...</td>\n",
       "      <td>...</td>\n",
       "      <td>...</td>\n",
       "      <td>...</td>\n",
       "      <td>...</td>\n",
       "      <td>...</td>\n",
       "      <td>...</td>\n",
       "      <td>...</td>\n",
       "      <td>...</td>\n",
       "    </tr>\n",
       "    <tr>\n",
       "      <th>2849</th>\n",
       "      <td>Edhy Zuliani</td>\n",
       "      <td>DF</td>\n",
       "      <td>Toulouse</td>\n",
       "      <td>19.0</td>\n",
       "      <td>1</td>\n",
       "      <td>0</td>\n",
       "      <td>9</td>\n",
       "      <td>0</td>\n",
       "      <td>0</td>\n",
       "      <td>0</td>\n",
       "      <td>0</td>\n",
       "      <td>0.0</td>\n",
       "    </tr>\n",
       "    <tr>\n",
       "      <th>2850</th>\n",
       "      <td>Szymon Żurkowski</td>\n",
       "      <td>MF</td>\n",
       "      <td>Empoli</td>\n",
       "      <td>26.0</td>\n",
       "      <td>5</td>\n",
       "      <td>0</td>\n",
       "      <td>106</td>\n",
       "      <td>0</td>\n",
       "      <td>0</td>\n",
       "      <td>0</td>\n",
       "      <td>0</td>\n",
       "      <td>0.0</td>\n",
       "    </tr>\n",
       "    <tr>\n",
       "      <th>2851</th>\n",
       "      <td>Martin Ødegaard</td>\n",
       "      <td>MF</td>\n",
       "      <td>Arsenal</td>\n",
       "      <td>25.0</td>\n",
       "      <td>30</td>\n",
       "      <td>26</td>\n",
       "      <td>2325</td>\n",
       "      <td>3</td>\n",
       "      <td>8</td>\n",
       "      <td>1</td>\n",
       "      <td>1</td>\n",
       "      <td>5.4</td>\n",
       "    </tr>\n",
       "    <tr>\n",
       "      <th>2852</th>\n",
       "      <td>Milan Đurić</td>\n",
       "      <td>FW</td>\n",
       "      <td>Monza</td>\n",
       "      <td>34.0</td>\n",
       "      <td>18</td>\n",
       "      <td>13</td>\n",
       "      <td>1270</td>\n",
       "      <td>4</td>\n",
       "      <td>1</td>\n",
       "      <td>0</td>\n",
       "      <td>0</td>\n",
       "      <td>1.1</td>\n",
       "    </tr>\n",
       "    <tr>\n",
       "      <th>2853</th>\n",
       "      <td>Milan Đurić</td>\n",
       "      <td>FW</td>\n",
       "      <td>Parma</td>\n",
       "      <td>34.0</td>\n",
       "      <td>9</td>\n",
       "      <td>3</td>\n",
       "      <td>268</td>\n",
       "      <td>1</td>\n",
       "      <td>0</td>\n",
       "      <td>0</td>\n",
       "      <td>0</td>\n",
       "      <td>0.0</td>\n",
       "    </tr>\n",
       "  </tbody>\n",
       "</table>\n",
       "<p>2854 rows × 12 columns</p>\n",
       "</div>"
      ],
      "text/plain": [
       "                 Player    Pos        Squad   Age  MP  Starts   Min  Gls  Ast  \\\n",
       "0            Max Aarons     DF  Bournemouth  24.0   3       1    86    0    0   \n",
       "1            Max Aarons  DF,MF     Valencia  24.0   4       1   120    0    0   \n",
       "2        Rodrigo Abajas     DF     Valencia  21.0   1       1    65    0    0   \n",
       "3        James Abankwah  DF,MF      Udinese  20.0   6       0    88    0    0   \n",
       "4     Keyliane Abdallah     FW    Marseille  18.0   1       0     3    0    0   \n",
       "...                 ...    ...          ...   ...  ..     ...   ...  ...  ...   \n",
       "2849       Edhy Zuliani     DF     Toulouse  19.0   1       0     9    0    0   \n",
       "2850   Szymon Żurkowski     MF       Empoli  26.0   5       0   106    0    0   \n",
       "2851    Martin Ødegaard     MF      Arsenal  25.0  30      26  2325    3    8   \n",
       "2852        Milan Đurić     FW        Monza  34.0  18      13  1270    4    1   \n",
       "2853        Milan Đurić     FW        Parma  34.0   9       3   268    1    0   \n",
       "\n",
       "      PK  PKatt  xAG  \n",
       "0      0      0  0.0  \n",
       "1      0      0  0.0  \n",
       "2      0      0  0.0  \n",
       "3      0      0  0.0  \n",
       "4      0      0  0.0  \n",
       "...   ..    ...  ...  \n",
       "2849   0      0  0.0  \n",
       "2850   0      0  0.0  \n",
       "2851   1      1  5.4  \n",
       "2852   0      0  1.1  \n",
       "2853   0      0  0.0  \n",
       "\n",
       "[2854 rows x 12 columns]"
      ]
     },
     "execution_count": 187,
     "metadata": {},
     "output_type": "execute_result"
    }
   ],
   "source": [
    "#Goals are only accounted in the leauge not outside competitions\n",
    "#taking all players with at least one goal and predicting # of goals of a given player given\n",
    "#Columns to consider: pos,squad,age, MP, starts, Min, asst, PK, PKatt, xAG\n",
    "raw_data = pd.read_excel(\"../top5-players24-25.xlsx\")\n",
    "raw_data = raw_data.drop(\"Rk\",axis=1)\n",
    "df = raw_data[[\"Player\",\"Pos\",\"Squad\",\"Age\",\"MP\",\"Starts\",\"Min\",\"Gls\",\"Ast\",\"PK\",\"PKatt\",\"xAG\"]]\n",
    "num_cols = df[[\"Age\",\"MP\",\"Starts\",\"Min\",\"Gls\",\"Ast\",\"PK\",\"PKatt\",\"xAG\"]]\n",
    "for col in num_cols:\n",
    "    df[col] = pd.to_numeric(df[col], errors='coerce')\n",
    "df"
   ]
  },
  {
   "cell_type": "code",
   "execution_count": 188,
   "id": "c41cd5f4",
   "metadata": {},
   "outputs": [
    {
     "name": "stderr",
     "output_type": "stream",
     "text": [
      "/var/folders/mx/4qcb2ycx00b56p885wrfvpk40000gn/T/ipykernel_9393/4218148291.py:3: SettingWithCopyWarning: \n",
      "A value is trying to be set on a copy of a slice from a DataFrame\n",
      "\n",
      "See the caveats in the documentation: https://pandas.pydata.org/pandas-docs/stable/user_guide/indexing.html#returning-a-view-versus-a-copy\n",
      "  df.drop([\"Player\"],axis=1,inplace=True)\n",
      "/var/folders/mx/4qcb2ycx00b56p885wrfvpk40000gn/T/ipykernel_9393/4218148291.py:4: SettingWithCopyWarning: \n",
      "A value is trying to be set on a copy of a slice from a DataFrame\n",
      "\n",
      "See the caveats in the documentation: https://pandas.pydata.org/pandas-docs/stable/user_guide/indexing.html#returning-a-view-versus-a-copy\n",
      "  df.dropna(inplace=True)\n"
     ]
    },
    {
     "data": {
      "text/html": [
       "<div>\n",
       "<style scoped>\n",
       "    .dataframe tbody tr th:only-of-type {\n",
       "        vertical-align: middle;\n",
       "    }\n",
       "\n",
       "    .dataframe tbody tr th {\n",
       "        vertical-align: top;\n",
       "    }\n",
       "\n",
       "    .dataframe thead th {\n",
       "        text-align: right;\n",
       "    }\n",
       "</style>\n",
       "<table border=\"1\" class=\"dataframe\">\n",
       "  <thead>\n",
       "    <tr style=\"text-align: right;\">\n",
       "      <th></th>\n",
       "      <th>Pos</th>\n",
       "      <th>Squad</th>\n",
       "      <th>Age</th>\n",
       "      <th>MP</th>\n",
       "      <th>Starts</th>\n",
       "      <th>Min</th>\n",
       "      <th>Gls</th>\n",
       "      <th>Ast</th>\n",
       "      <th>PK</th>\n",
       "      <th>PKatt</th>\n",
       "      <th>xAG</th>\n",
       "    </tr>\n",
       "  </thead>\n",
       "  <tbody>\n",
       "    <tr>\n",
       "      <th>0</th>\n",
       "      <td>DF</td>\n",
       "      <td>Bournemouth</td>\n",
       "      <td>24.0</td>\n",
       "      <td>3</td>\n",
       "      <td>1</td>\n",
       "      <td>86</td>\n",
       "      <td>0</td>\n",
       "      <td>0</td>\n",
       "      <td>0</td>\n",
       "      <td>0</td>\n",
       "      <td>0.0</td>\n",
       "    </tr>\n",
       "    <tr>\n",
       "      <th>1</th>\n",
       "      <td>DF,MF</td>\n",
       "      <td>Valencia</td>\n",
       "      <td>24.0</td>\n",
       "      <td>4</td>\n",
       "      <td>1</td>\n",
       "      <td>120</td>\n",
       "      <td>0</td>\n",
       "      <td>0</td>\n",
       "      <td>0</td>\n",
       "      <td>0</td>\n",
       "      <td>0.0</td>\n",
       "    </tr>\n",
       "    <tr>\n",
       "      <th>2</th>\n",
       "      <td>DF</td>\n",
       "      <td>Valencia</td>\n",
       "      <td>21.0</td>\n",
       "      <td>1</td>\n",
       "      <td>1</td>\n",
       "      <td>65</td>\n",
       "      <td>0</td>\n",
       "      <td>0</td>\n",
       "      <td>0</td>\n",
       "      <td>0</td>\n",
       "      <td>0.0</td>\n",
       "    </tr>\n",
       "    <tr>\n",
       "      <th>3</th>\n",
       "      <td>DF,MF</td>\n",
       "      <td>Udinese</td>\n",
       "      <td>20.0</td>\n",
       "      <td>6</td>\n",
       "      <td>0</td>\n",
       "      <td>88</td>\n",
       "      <td>0</td>\n",
       "      <td>0</td>\n",
       "      <td>0</td>\n",
       "      <td>0</td>\n",
       "      <td>0.0</td>\n",
       "    </tr>\n",
       "    <tr>\n",
       "      <th>4</th>\n",
       "      <td>FW</td>\n",
       "      <td>Marseille</td>\n",
       "      <td>18.0</td>\n",
       "      <td>1</td>\n",
       "      <td>0</td>\n",
       "      <td>3</td>\n",
       "      <td>0</td>\n",
       "      <td>0</td>\n",
       "      <td>0</td>\n",
       "      <td>0</td>\n",
       "      <td>0.0</td>\n",
       "    </tr>\n",
       "  </tbody>\n",
       "</table>\n",
       "</div>"
      ],
      "text/plain": [
       "     Pos        Squad   Age  MP  Starts  Min  Gls  Ast  PK  PKatt  xAG\n",
       "0     DF  Bournemouth  24.0   3       1   86    0    0   0      0  0.0\n",
       "1  DF,MF     Valencia  24.0   4       1  120    0    0   0      0  0.0\n",
       "2     DF     Valencia  21.0   1       1   65    0    0   0      0  0.0\n",
       "3  DF,MF      Udinese  20.0   6       0   88    0    0   0      0  0.0\n",
       "4     FW    Marseille  18.0   1       0    3    0    0   0      0  0.0"
      ]
     },
     "execution_count": 188,
     "metadata": {},
     "output_type": "execute_result"
    }
   ],
   "source": [
    "#Data Cleaning\n",
    "#Have to remove names :(\n",
    "df.drop([\"Player\"],axis=1,inplace=True)\n",
    "df.dropna(inplace=True)\n",
    "df.head()"
   ]
  },
  {
   "cell_type": "code",
   "execution_count": 189,
   "id": "005b57da",
   "metadata": {},
   "outputs": [
    {
     "name": "stderr",
     "output_type": "stream",
     "text": [
      "/var/folders/mx/4qcb2ycx00b56p885wrfvpk40000gn/T/ipykernel_9393/2117006691.py:10: SettingWithCopyWarning: \n",
      "A value is trying to be set on a copy of a slice from a DataFrame.\n",
      "Try using .loc[row_indexer,col_indexer] = value instead\n",
      "\n",
      "See the caveats in the documentation: https://pandas.pydata.org/pandas-docs/stable/user_guide/indexing.html#returning-a-view-versus-a-copy\n",
      "  df[\"Pos\"] = df[\"Pos\"].map(pos_dict)\n"
     ]
    },
    {
     "data": {
      "text/html": [
       "<div>\n",
       "<style scoped>\n",
       "    .dataframe tbody tr th:only-of-type {\n",
       "        vertical-align: middle;\n",
       "    }\n",
       "\n",
       "    .dataframe tbody tr th {\n",
       "        vertical-align: top;\n",
       "    }\n",
       "\n",
       "    .dataframe thead th {\n",
       "        text-align: right;\n",
       "    }\n",
       "</style>\n",
       "<table border=\"1\" class=\"dataframe\">\n",
       "  <thead>\n",
       "    <tr style=\"text-align: right;\">\n",
       "      <th></th>\n",
       "      <th>Pos</th>\n",
       "      <th>Squad</th>\n",
       "      <th>Age</th>\n",
       "      <th>MP</th>\n",
       "      <th>Starts</th>\n",
       "      <th>Min</th>\n",
       "      <th>Gls</th>\n",
       "      <th>Ast</th>\n",
       "      <th>PK</th>\n",
       "      <th>PKatt</th>\n",
       "      <th>xAG</th>\n",
       "    </tr>\n",
       "  </thead>\n",
       "  <tbody>\n",
       "    <tr>\n",
       "      <th>2844</th>\n",
       "      <td>2</td>\n",
       "      <td>Cagliari</td>\n",
       "      <td>25.0</td>\n",
       "      <td>35</td>\n",
       "      <td>33</td>\n",
       "      <td>2713</td>\n",
       "      <td>6</td>\n",
       "      <td>2</td>\n",
       "      <td>0</td>\n",
       "      <td>0</td>\n",
       "      <td>2.4</td>\n",
       "    </tr>\n",
       "    <tr>\n",
       "      <th>2848</th>\n",
       "      <td>6</td>\n",
       "      <td>Real Sociedad</td>\n",
       "      <td>25.0</td>\n",
       "      <td>36</td>\n",
       "      <td>33</td>\n",
       "      <td>2962</td>\n",
       "      <td>2</td>\n",
       "      <td>1</td>\n",
       "      <td>0</td>\n",
       "      <td>0</td>\n",
       "      <td>1.1</td>\n",
       "    </tr>\n",
       "    <tr>\n",
       "      <th>2851</th>\n",
       "      <td>6</td>\n",
       "      <td>Arsenal</td>\n",
       "      <td>25.0</td>\n",
       "      <td>30</td>\n",
       "      <td>26</td>\n",
       "      <td>2325</td>\n",
       "      <td>3</td>\n",
       "      <td>8</td>\n",
       "      <td>1</td>\n",
       "      <td>1</td>\n",
       "      <td>5.4</td>\n",
       "    </tr>\n",
       "    <tr>\n",
       "      <th>2852</th>\n",
       "      <td>4</td>\n",
       "      <td>Monza</td>\n",
       "      <td>34.0</td>\n",
       "      <td>18</td>\n",
       "      <td>13</td>\n",
       "      <td>1270</td>\n",
       "      <td>4</td>\n",
       "      <td>1</td>\n",
       "      <td>0</td>\n",
       "      <td>0</td>\n",
       "      <td>1.1</td>\n",
       "    </tr>\n",
       "    <tr>\n",
       "      <th>2853</th>\n",
       "      <td>4</td>\n",
       "      <td>Parma</td>\n",
       "      <td>34.0</td>\n",
       "      <td>9</td>\n",
       "      <td>3</td>\n",
       "      <td>268</td>\n",
       "      <td>1</td>\n",
       "      <td>0</td>\n",
       "      <td>0</td>\n",
       "      <td>0</td>\n",
       "      <td>0.0</td>\n",
       "    </tr>\n",
       "  </tbody>\n",
       "</table>\n",
       "</div>"
      ],
      "text/plain": [
       "      Pos          Squad   Age  MP  Starts   Min  Gls  Ast  PK  PKatt  xAG\n",
       "2844    2       Cagliari  25.0  35      33  2713    6    2   0      0  2.4\n",
       "2848    6  Real Sociedad  25.0  36      33  2962    2    1   0      0  1.1\n",
       "2851    6        Arsenal  25.0  30      26  2325    3    8   1      1  5.4\n",
       "2852    4          Monza  34.0  18      13  1270    4    1   0      0  1.1\n",
       "2853    4          Parma  34.0   9       3   268    1    0   0      0  0.0"
      ]
     },
     "execution_count": 189,
     "metadata": {},
     "output_type": "execute_result"
    }
   ],
   "source": [
    "#selecting only players that have goals\n",
    "df = df[df[\"Gls\"]>0]\n",
    "#giving numerical encoding to positions\n",
    "unique = df[\"Pos\"].unique()\n",
    "pos_dict = {}\n",
    "j = 1\n",
    "for i in unique:\n",
    "    pos_dict[i] = j\n",
    "    j += 1\n",
    "df[\"Pos\"] = df[\"Pos\"].map(pos_dict)\n",
    "df.tail()"
   ]
  },
  {
   "cell_type": "code",
   "execution_count": 190,
   "id": "4a08f04c",
   "metadata": {},
   "outputs": [],
   "source": [
    "df = df.drop(\"Squad\",axis=1)"
   ]
  },
  {
   "cell_type": "code",
   "execution_count": 276,
   "id": "4ed65ac6",
   "metadata": {},
   "outputs": [
    {
     "data": {
      "text/html": [
       "<div>\n",
       "<style scoped>\n",
       "    .dataframe tbody tr th:only-of-type {\n",
       "        vertical-align: middle;\n",
       "    }\n",
       "\n",
       "    .dataframe tbody tr th {\n",
       "        vertical-align: top;\n",
       "    }\n",
       "\n",
       "    .dataframe thead th {\n",
       "        text-align: right;\n",
       "    }\n",
       "</style>\n",
       "<table border=\"1\" class=\"dataframe\">\n",
       "  <thead>\n",
       "    <tr style=\"text-align: right;\">\n",
       "      <th></th>\n",
       "      <th>Pos</th>\n",
       "      <th>Age</th>\n",
       "      <th>MP</th>\n",
       "      <th>Starts</th>\n",
       "      <th>Min</th>\n",
       "      <th>Ast</th>\n",
       "      <th>PK</th>\n",
       "      <th>PKatt</th>\n",
       "      <th>xAG</th>\n",
       "    </tr>\n",
       "  </thead>\n",
       "  <tbody>\n",
       "    <tr>\n",
       "      <th>1256</th>\n",
       "      <td>4</td>\n",
       "      <td>27.0</td>\n",
       "      <td>17</td>\n",
       "      <td>6</td>\n",
       "      <td>608</td>\n",
       "      <td>0</td>\n",
       "      <td>0</td>\n",
       "      <td>0</td>\n",
       "      <td>0.7</td>\n",
       "    </tr>\n",
       "    <tr>\n",
       "      <th>332</th>\n",
       "      <td>5</td>\n",
       "      <td>22.0</td>\n",
       "      <td>12</td>\n",
       "      <td>3</td>\n",
       "      <td>356</td>\n",
       "      <td>1</td>\n",
       "      <td>0</td>\n",
       "      <td>0</td>\n",
       "      <td>1.1</td>\n",
       "    </tr>\n",
       "    <tr>\n",
       "      <th>268</th>\n",
       "      <td>1</td>\n",
       "      <td>27.0</td>\n",
       "      <td>32</td>\n",
       "      <td>18</td>\n",
       "      <td>1598</td>\n",
       "      <td>1</td>\n",
       "      <td>0</td>\n",
       "      <td>0</td>\n",
       "      <td>1.2</td>\n",
       "    </tr>\n",
       "    <tr>\n",
       "      <th>940</th>\n",
       "      <td>2</td>\n",
       "      <td>23.0</td>\n",
       "      <td>33</td>\n",
       "      <td>25</td>\n",
       "      <td>2314</td>\n",
       "      <td>5</td>\n",
       "      <td>0</td>\n",
       "      <td>0</td>\n",
       "      <td>4.2</td>\n",
       "    </tr>\n",
       "    <tr>\n",
       "      <th>2820</th>\n",
       "      <td>4</td>\n",
       "      <td>33.0</td>\n",
       "      <td>7</td>\n",
       "      <td>7</td>\n",
       "      <td>587</td>\n",
       "      <td>0</td>\n",
       "      <td>0</td>\n",
       "      <td>0</td>\n",
       "      <td>0.5</td>\n",
       "    </tr>\n",
       "  </tbody>\n",
       "</table>\n",
       "</div>"
      ],
      "text/plain": [
       "      Pos   Age  MP  Starts   Min  Ast  PK  PKatt  xAG\n",
       "1256    4  27.0  17       6   608    0   0      0  0.7\n",
       "332     5  22.0  12       3   356    1   0      0  1.1\n",
       "268     1  27.0  32      18  1598    1   0      0  1.2\n",
       "940     2  23.0  33      25  2314    5   0      0  4.2\n",
       "2820    4  33.0   7       7   587    0   0      0  0.5"
      ]
     },
     "execution_count": 276,
     "metadata": {},
     "output_type": "execute_result"
    }
   ],
   "source": [
    "#split into training and test set\n",
    "X = df.drop(\"Gls\",axis=1)\n",
    "Y = df[\"Gls\"]\n",
    "X_train, X_test, y_train, y_test = train_test_split(X, Y, test_size=0.33, random_state=random.randint(1,100))\n",
    "X_train.head()"
   ]
  },
  {
   "cell_type": "code",
   "execution_count": 277,
   "id": "37bd1c8a",
   "metadata": {
    "scrolled": true
   },
   "outputs": [
    {
     "data": {
      "text/plain": [
       "-0.09106600858979999"
      ]
     },
     "execution_count": 277,
     "metadata": {},
     "output_type": "execute_result"
    }
   ],
   "source": [
    "#fit to regression model\n",
    "lr = LinearRegression()\n",
    "lr.fit(X_train,y_train)\n",
    "y_pred = lr.predict(X_test)\n",
    "\n",
    "#Mean Error (not good for directionless errors)\n",
    "sum(y_test-y_pred)/len(y_test)"
   ]
  },
  {
   "cell_type": "code",
   "execution_count": 291,
   "id": "ac8df10e",
   "metadata": {},
   "outputs": [
    {
     "data": {
      "image/png": "[encoded data removed]",
      "text/plain": [
       "<Figure size 800x500 with 1 Axes>"
      ]
     },
     "metadata": {},
     "output_type": "display_data"
    },
    {
     "name": "stdout",
     "output_type": "stream",
     "text": [
      "Residuals range:  [-9.345765454650543, 16.320801541618795]\n"
     ]
    }
   ],
   "source": [
    "residuals = y_test - y_pred\n",
    "\n",
    "# Plot\n",
    "plt.figure(figsize=(8, 5))\n",
    "sns.scatterplot(x=y_pred, y=residuals)\n",
    "plt.axhline(0, color='red', linestyle='--')\n",
    "plt.xlabel(\"Predicted Values\")\n",
    "plt.ylabel(\"Residuals (y_test - y_pred)\")\n",
    "plt.title(\"Residual Plot\")\n",
    "plt.show()\n",
    "print(\"Residuals range: \",[min(residuals),max(residuals)])"
   ]
  },
  {
   "cell_type": "code",
   "execution_count": 279,
   "id": "8133825c",
   "metadata": {},
   "outputs": [
    {
     "data": {
      "image/png": "[encoded data removed]",
      "text/plain": [
       "<Figure size 640x480 with 1 Axes>"
      ]
     },
     "metadata": {},
     "output_type": "display_data"
    }
   ],
   "source": [
    "sns.histplot(residuals, kde=True, bins=30, color='blue')\n",
    "plt.title(\"Distribution of Residuals\")\n",
    "plt.xlabel(\"Error\")\n",
    "plt.ylabel(\"Frequency\")\n",
    "plt.axvline(0, color='red', linestyle='--')\n",
    "plt.show()"
   ]
  },
  {
   "cell_type": "code",
   "execution_count": 280,
   "id": "cb40e651",
   "metadata": {},
   "outputs": [
    {
     "name": "stdout",
     "output_type": "stream",
     "text": [
      "R^2 Score: 0.48493812891881705\n",
      "RMSE: 2.777070669067542\n"
     ]
    }
   ],
   "source": [
    "#Evaluate Model\n",
    "print(\"R^2 Score:\", lr.score(X_test, y_test))\n",
    "print(\"RMSE:\", np.sqrt(mean_squared_error(y_test, y_pred)))"
   ]
  },
  {
   "cell_type": "code",
   "execution_count": 281,
   "id": "2b38faa3",
   "metadata": {},
   "outputs": [],
   "source": [
    "#try implementing coss validation\n",
    "\n",
    "# Use 5 folds (can increase to 10 for more granularity)\n",
    "kf = KFold(n_splits=5, shuffle=True, random_state=random.randint(1,100))\n",
    "\n",
    "# Define RMSE scorer (negative MSE because cross_val_score minimizes score)\n",
    "rmse_scorer = make_scorer(mean_squared_error, greater_is_better=False)"
   ]
  },
  {
   "cell_type": "code",
   "execution_count": 282,
   "id": "a0efc49c",
   "metadata": {},
   "outputs": [
    {
     "name": "stdout",
     "output_type": "stream",
     "text": [
      "RMSE scores for each fold: [2.2511506  2.64781359 2.70109851 2.43186818 2.79863127]\n",
      "Average RMSE: 2.5661124301857132\n"
     ]
    }
   ],
   "source": [
    "#new model applying cross validation\n",
    "lr2 = LinearRegression()\n",
    "mse_scores = cross_val_score(lr2, X_train, y_train, cv=kf, scoring=rmse_scorer)\n",
    "rmse_scores = np.sqrt(-mse_scores)\n",
    "\n",
    "print(\"RMSE scores for each fold:\", rmse_scores)\n",
    "print(\"Average RMSE:\", rmse_scores.mean())"
   ]
  },
  {
   "cell_type": "code",
   "execution_count": 283,
   "id": "119260e2",
   "metadata": {},
   "outputs": [
    {
     "name": "stdout",
     "output_type": "stream",
     "text": [
      "R^2 Score: 0.48493812891881705\n",
      "RMSE: 2.777070669067542\n"
     ]
    }
   ],
   "source": [
    "lr2.fit(X_train,y_train)\n",
    "y_pred_cv = lr2.predict(X_test)\n",
    "\n",
    "#Evaluate Model\n",
    "print(\"R^2 Score:\", lr.score(X_test, y_test))\n",
    "print(\"RMSE:\", np.sqrt(mean_squared_error(y_test, y_pred)))"
   ]
  },
  {
   "cell_type": "code",
   "execution_count": 284,
   "id": "17269824",
   "metadata": {},
   "outputs": [
    {
     "data": {
      "text/html": [
       "<style>#sk-container-id-5 {color: black;background-color: white;}#sk-container-id-5 pre{padding: 0;}#sk-container-id-5 div.sk-toggleable {background-color: white;}#sk-container-id-5 label.sk-toggleable__label {cursor: pointer;display: block;width: 100%;margin-bottom: 0;padding: 0.3em;box-sizing: border-box;text-align: center;}#sk-container-id-5 label.sk-toggleable__label-arrow:before {content: \"▸\";float: left;margin-right: 0.25em;color: #696969;}#sk-container-id-5 label.sk-toggleable__label-arrow:hover:before {color: black;}#sk-container-id-5 div.sk-estimator:hover label.sk-toggleable__label-arrow:before {color: black;}#sk-container-id-5 div.sk-toggleable__content {max-height: 0;max-width: 0;overflow: hidden;text-align: left;background-color: #f0f8ff;}#sk-container-id-5 div.sk-toggleable__content pre {margin: 0.2em;color: black;border-radius: 0.25em;background-color: #f0f8ff;}#sk-container-id-5 input.sk-toggleable__control:checked~div.sk-toggleable__content {max-height: 200px;max-width: 100%;overflow: auto;}#sk-container-id-5 input.sk-toggleable__control:checked~label.sk-toggleable__label-arrow:before {content: \"▾\";}#sk-container-id-5 div.sk-estimator input.sk-toggleable__control:checked~label.sk-toggleable__label {background-color: #d4ebff;}#sk-container-id-5 div.sk-label input.sk-toggleable__control:checked~label.sk-toggleable__label {background-color: #d4ebff;}#sk-container-id-5 input.sk-hidden--visually {border: 0;clip: rect(1px 1px 1px 1px);clip: rect(1px, 1px, 1px, 1px);height: 1px;margin: -1px;overflow: hidden;padding: 0;position: absolute;width: 1px;}#sk-container-id-5 div.sk-estimator {font-family: monospace;background-color: #f0f8ff;border: 1px dotted black;border-radius: 0.25em;box-sizing: border-box;margin-bottom: 0.5em;}#sk-container-id-5 div.sk-estimator:hover {background-color: #d4ebff;}#sk-container-id-5 div.sk-parallel-item::after {content: \"\";width: 100%;border-bottom: 1px solid gray;flex-grow: 1;}#sk-container-id-5 div.sk-label:hover label.sk-toggleable__label {background-color: #d4ebff;}#sk-container-id-5 div.sk-serial::before {content: \"\";position: absolute;border-left: 1px solid gray;box-sizing: border-box;top: 0;bottom: 0;left: 50%;z-index: 0;}#sk-container-id-5 div.sk-serial {display: flex;flex-direction: column;align-items: center;background-color: white;padding-right: 0.2em;padding-left: 0.2em;position: relative;}#sk-container-id-5 div.sk-item {position: relative;z-index: 1;}#sk-container-id-5 div.sk-parallel {display: flex;align-items: stretch;justify-content: center;background-color: white;position: relative;}#sk-container-id-5 div.sk-item::before, #sk-container-id-5 div.sk-parallel-item::before {content: \"\";position: absolute;border-left: 1px solid gray;box-sizing: border-box;top: 0;bottom: 0;left: 50%;z-index: -1;}#sk-container-id-5 div.sk-parallel-item {display: flex;flex-direction: column;z-index: 1;position: relative;background-color: white;}#sk-container-id-5 div.sk-parallel-item:first-child::after {align-self: flex-end;width: 50%;}#sk-container-id-5 div.sk-parallel-item:last-child::after {align-self: flex-start;width: 50%;}#sk-container-id-5 div.sk-parallel-item:only-child::after {width: 0;}#sk-container-id-5 div.sk-dashed-wrapped {border: 1px dashed gray;margin: 0 0.4em 0.5em 0.4em;box-sizing: border-box;padding-bottom: 0.4em;background-color: white;}#sk-container-id-5 div.sk-label label {font-family: monospace;font-weight: bold;display: inline-block;line-height: 1.2em;}#sk-container-id-5 div.sk-label-container {text-align: center;}#sk-container-id-5 div.sk-container {/* jupyter's `normalize.less` sets `[hidden] { display: none; }` but bootstrap.min.css set `[hidden] { display: none !important; }` so we also need the `!important` here to be able to override the default hidden behavior on the sphinx rendered scikit-learn.org. See: https://github.com/scikit-learn/scikit-learn/issues/21755 */display: inline-block !important;position: relative;}#sk-container-id-5 div.sk-text-repr-fallback {display: none;}</style><div id=\"sk-container-id-5\" class=\"sk-top-container\"><div class=\"sk-text-repr-fallback\"><pre>RandomForestRegressor(random_state=15)</pre><b>In a Jupyter environment, please rerun this cell to show the HTML representation or trust the notebook. <br />On GitHub, the HTML representation is unable to render, please try loading this page with nbviewer.org.</b></div><div class=\"sk-container\" hidden><div class=\"sk-item\"><div class=\"sk-estimator sk-toggleable\"><input class=\"sk-toggleable__control sk-hidden--visually\" id=\"sk-estimator-id-5\" type=\"checkbox\" checked><label for=\"sk-estimator-id-5\" class=\"sk-toggleable__label sk-toggleable__label-arrow\">RandomForestRegressor</label><div class=\"sk-toggleable__content\"><pre>RandomForestRegressor(random_state=15)</pre></div></div></div></div></div>"
      ],
      "text/plain": [
       "RandomForestRegressor(random_state=15)"
      ]
     },
     "execution_count": 284,
     "metadata": {},
     "output_type": "execute_result"
    }
   ],
   "source": [
    "#Trying Random Forest because linear Regression score sucks\n",
    "model = RandomForestRegressor(n_estimators=100, random_state=random.randint(1,100))\n",
    "model.fit(X_train, y_train)"
   ]
  },
  {
   "cell_type": "code",
   "execution_count": 285,
   "id": "5f611477",
   "metadata": {},
   "outputs": [
    {
     "name": "stdout",
     "output_type": "stream",
     "text": [
      "R^2 Score: 0.595273581748847\n",
      "RMSE: 2.461716336507635\n"
     ]
    }
   ],
   "source": [
    "y_pred_rf = model.predict(X_test)\n",
    "print(\"R^2 Score:\", model.score(X_test, y_test))\n",
    "print(\"RMSE:\", np.sqrt(mean_squared_error(y_test, y_pred_rf)))"
   ]
  },
  {
   "cell_type": "code",
   "execution_count": 286,
   "id": "2b8d3329",
   "metadata": {},
   "outputs": [
    {
     "data": {
      "image/png": "[encoded data removed]",
      "text/plain": [
       "<Figure size 800x500 with 1 Axes>"
      ]
     },
     "metadata": {},
     "output_type": "display_data"
    }
   ],
   "source": [
    "#Plotting final results from random forest\n",
    "residuals_rf = y_test - y_pred_rf\n",
    "\n",
    "# Plot\n",
    "plt.figure(figsize=(8, 5))\n",
    "sns.scatterplot(x=y_pred_rf, y=residuals_rf)\n",
    "plt.axhline(0, color='red', linestyle='--')\n",
    "plt.xlabel(\"Predicted Values\")\n",
    "plt.ylabel(\"Residuals (y_test - y_pred)\")\n",
    "plt.title(\"Residual Plot\")\n",
    "plt.show()"
   ]
  },
  {
   "cell_type": "code",
   "execution_count": 290,
   "id": "a46df4b6",
   "metadata": {},
   "outputs": [
    {
     "name": "stdout",
     "output_type": "stream",
     "text": [
      "Residuals range:  [-9.190000000000001, 12.78]\n"
     ]
    }
   ],
   "source": [
    "print(\"Residuals range: \",[min(residuals_rf),max(residuals_rf)])"
   ]
  },
  {
   "cell_type": "code",
   "execution_count": null,
   "id": "411cc48b",
   "metadata": {},
   "outputs": [],
   "source": []
  }
 ],
 "metadata": {
  "kernelspec": {
   "display_name": "Python 3 (ipykernel)",
   "language": "python",
   "name": "python3"
  },
  "language_info": {
   "codemirror_mode": {
    "name": "ipython",
    "version": 3
   },
   "file_extension": ".py",
   "mimetype": "text/x-python",
   "name": "python",
   "nbconvert_exporter": "python",
   "pygments_lexer": "ipython3",
   "version": "3.10.9"
  }
 },
 "nbformat": 4,
 "nbformat_minor": 5
}
